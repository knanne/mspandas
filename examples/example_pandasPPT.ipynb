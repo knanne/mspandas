{
 "cells": [
  {
   "cell_type": "markdown",
   "metadata": {
    "slideshow": {
     "slide_type": "slide"
    }
   },
   "source": [
    "# Example: Pandas to PowerPoint\n",
    "\n",
    "## Using: mspandas.pandasPPT\n",
    "\n",
    "This document will show you how to create a powerpoint report from python, using the `pandasPPT` module from [mspandas](https://github.com/knanne/mspandas) library.\n",
    "\n",
    "**NOTE:** The `pandasPPT` module is designed as an addition to the existing `python-pptx` library for helping to automate the process of writing Pandas DataFrames to PowerPoint presentations. Please educate yourself on how [python-pptx](https://python-pptx.readthedocs.io/en/latest/) works first.  "
   ]
  },
  {
   "cell_type": "markdown",
   "metadata": {
    "slideshow": {
     "slide_type": "slide"
    }
   },
   "source": [
    "# Contents\n",
    "\n",
    "- [Important Info](#Important-Info)\n",
    "    - [Background](#Background)\n",
    "    - [Instructions](#Instructions)\n",
    "    - [Layouts](#Layouts)\n",
    "    - [Shapes](#Shapes)\n",
    "    - [Template File](#Template-File)\n",
    "- [Dependencies](#Dependencies)\n",
    "- [Dummy Data](#Dummy-Data)\n",
    "- [Create Presentation](#Create-Presentation)\n",
    "- [Map Layouts](#Map-Layouts)\n",
    "- [Add Content](#Add-Content)\n",
    "- [Save Report](#Save-Report)\n",
    "- [Preview](#Preview)"
   ]
  },
  {
   "cell_type": "markdown",
   "metadata": {
    "slideshow": {
     "slide_type": "slide"
    }
   },
   "source": [
    "# Important Info\n",
    "\n",
    "## Background\n",
    "\n",
    "To initialize a report, we utilize a \"template\". This is simply a blank presentation. The presentation contains a slide master by default which can be customized with preset \"layouts\" based on your brand's styleguide.  \n",
    "\n",
    "Example tasks of customizing a template for reusable reporting would include:  \n",
    "\n",
    "- Add placeholders to layouts for reporting objects to be appended to (e.g. chart, table, picture)\n",
    "- Rename the placeholders with logical names for fetching in python (e.g. chart, table, picture)\n",
    "- Rename the layouts with logical names for fetching in python (e.g. custom_chart, custom_chart_table)\n",
    "\n",
    "To learn more on PowerPoint templates, read [more by Microsoft here](https://support.office.com/en-us/article/design-your-slides-53c20bd5-e594-4837-a7ad-525706e09960)  \n",
    "\n",
    "## Instructions\n",
    "\n",
    "The process to create the powerpoint report in python is the following, links provided to below code.\n",
    "\n",
    "- [create a new ppt object from template](#Create-Presentation)\n",
    "- [map the layouts available in template](#Map-Layouts)\n",
    "- [recursively add content to ppt with the following process](#Add-Content)\n",
    "    1. add a slide using an available layout\n",
    "    2. map the shapes available in layout\n",
    "    3. define placeholders using shape map\n",
    "    4. add content to placeholders\n",
    "- [save the ppt object to file](#Save-Report)\n",
    "\n",
    "Use the following code to create a ppt object from a template file:\n",
    "\n",
    "```python\n",
    "# create new presentation from template\n",
    "ppt = pptx.Presentation('template.pptx')\n",
    "```\n",
    "\n",
    "Use the following code to save a ppt object to file when finished:\n",
    "\n",
    "```python\n",
    "# save modified presentation to file\n",
    "ppt.save('my_custom_presentation.pptx')\n",
    "```\n",
    "\n",
    "**Please educate yourself on the two important concepts below: Layouts and Shapes.**\n",
    "\n",
    "\n",
    "## Layouts\n",
    "\n",
    "Layouts are the predefined slide templates within a template presentation file, and are accessed and edited through the \"Slide Master\" in PowerPoint.  \n",
    "\n",
    "Use the following code to map layouts in a ppt object, and add a new slide to a ppt object.  \n",
    "\n",
    "```python\n",
    "# create a map of template layouts\n",
    "layout_map = Handler.map_layouts(ppt=ppt)\n",
    "\n",
    "# add slide to ppt from layout\n",
    "slide = ppt.slides.add_slide(layout_map['custom_text'])\n",
    "```\n",
    "\n",
    "## Shapes\n",
    "\n",
    "Shapes are the predefined placeholder objects on a slide layout, used for adding content to the slide. The shapes used are: `table`, `chart`, `text`, and `picture`. \n",
    "\n",
    "Use the following code to map shapes in a slide layout, and add content to a shape.\n",
    "\n",
    "```python\n",
    "# create a map of layout shapes\n",
    "shape_map = Handler.map_shapes(layout_map['custom_text'])\n",
    "\n",
    "# define placeholders using shape map\n",
    "shape_title = slide.placeholders[shape_map['title']]\n",
    "shape_text = slide.placeholders[shape_map['text']]\n",
    "\n",
    "# add title\n",
    "shape_title.text = 'Dummy Title'\n",
    "\n",
    "# add text\n",
    "shape_text.text = 'Dummy Text'\n",
    "```\n",
    "\n",
    "**Note that charts can only be added to chart placeholders and tables can only be added to table placeholders.** This means you will need to explicitly define a slide layout with these shapes.  \n",
    "\n",
    "## Template File\n",
    "\n",
    "To create a reusable report, you will need to know how to edit the template file yourself. This is done from the \"Slide Master\" section in PowerPoint. Breif instructions on important actions are given below, otherwise consult the [official Microsoft documentation](https://support.office.com/en-us/article/what-is-a-slide-master-b9abb2a0-7aef-4257-a14e-4329c904da54) for more reading.  \n",
    "\n",
    "To access layouts in powerpoint:\n",
    "- Open the template file, go to `View > Slide Master`\n",
    "\n",
    "To add a layout:\n",
    "- In the slide master, either copy an existing layout and paste it or right click and select `Insert Slide Layout`\n",
    "\n",
    "To rename a layout:\n",
    "- In the slide master, right click on a layout and select `Rename`\n",
    "\n",
    "To add a placeholder shape:\n",
    "- In a slide layout, go to `Slide Master > Insert Placeholder`\n",
    "\n",
    "To rename a placeholder shape:\n",
    "- In a slide layout, click on a placeholder and go to `Format > Selection Pane` then double click an existing placeholder name in the menu to rename it"
   ]
  },
  {
   "cell_type": "markdown",
   "metadata": {
    "slideshow": {
     "slide_type": "slide"
    }
   },
   "source": [
    "# Dependencies\n",
    "\n",
    "To install mspandas, refer to the [project's homepage](https://github.com/knanne/mspandas/#Installation)\n",
    "\n",
    "You will also need the following libraries installed:  \n",
    "\n",
    "[Python PPTX](https://python-pptx.readthedocs.io/en/latest/). Install via `pip install python-pptx`  \n",
    "\n",
    "[Pandas](http://pandas.pydata.org/). Install via `pip install pandas`  \n",
    "\n",
    "[Numpy](http://www.numpy.org/). Install via `pip install numpy`  "
   ]
  },
  {
   "cell_type": "code",
   "execution_count": 1,
   "metadata": {},
   "outputs": [],
   "source": [
    "import sys\n",
    "import os\n",
    "\n",
    "# define path\n",
    "mspandas = 'C:/Users/Kain/SkyDrive/projects/mspandas/'\n",
    "\n",
    "# add mspandas to path\n",
    "sys.path.append(os.path.abspath(mspandas))"
   ]
  },
  {
   "cell_type": "code",
   "execution_count": 2,
   "metadata": {
    "collapsed": true,
    "slideshow": {
     "slide_type": "fragment"
    }
   },
   "outputs": [],
   "source": [
    "import mspandas\n",
    "from mspandas.pandasPPT import Table"
   ]
  },
  {
   "cell_type": "code",
   "execution_count": 3,
   "metadata": {
    "collapsed": true,
    "slideshow": {
     "slide_type": "fragment"
    }
   },
   "outputs": [],
   "source": [
    "import pptx\n",
    "import pandas as pd\n",
    "import numpy as np"
   ]
  },
  {
   "cell_type": "markdown",
   "metadata": {
    "slideshow": {
     "slide_type": "slide"
    }
   },
   "source": [
    "# Dummy Data\n",
    "\n",
    "\n",
    "For the purpose of this demo, let's create a Pandas DataFrame made out of dummy data and add some complex structures like a multiindex and timeseries.  "
   ]
  },
  {
   "cell_type": "code",
   "execution_count": 4,
   "metadata": {
    "collapsed": true,
    "slideshow": {
     "slide_type": "fragment"
    }
   },
   "outputs": [],
   "source": [
    "df = pd.DataFrame(np.random.rand(6, 4),\n",
    "                  columns=pd.MultiIndex.from_tuples([('Group1','A'),('Group1','B'),('Group2','C'),('Group2','D')]),\n",
    "                  index=pd.MultiIndex.from_tuples([(d.strftime('%Y'),d) for d in pd.date_range(end=pd.datetime.now(), periods=6, freq='Q')]))\n",
    "\n",
    "df.columns = df.columns.set_names(['Group','Series'])\n",
    "df.index = df.index.set_names(['Year','Quarter End'])"
   ]
  },
  {
   "cell_type": "code",
   "execution_count": 5,
   "metadata": {
    "slideshow": {
     "slide_type": "fragment"
    }
   },
   "outputs": [
    {
     "data": {
      "text/html": [
       "<div>\n",
       "<style>\n",
       "    .dataframe thead tr:only-child th {\n",
       "        text-align: right;\n",
       "    }\n",
       "\n",
       "    .dataframe thead th {\n",
       "        text-align: left;\n",
       "    }\n",
       "\n",
       "    .dataframe tbody tr th {\n",
       "        vertical-align: top;\n",
       "    }\n",
       "</style>\n",
       "<table border=\"1\" class=\"dataframe\">\n",
       "  <thead>\n",
       "    <tr>\n",
       "      <th></th>\n",
       "      <th>Group</th>\n",
       "      <th colspan=\"2\" halign=\"left\">Group1</th>\n",
       "      <th colspan=\"2\" halign=\"left\">Group2</th>\n",
       "    </tr>\n",
       "    <tr>\n",
       "      <th></th>\n",
       "      <th>Series</th>\n",
       "      <th>A</th>\n",
       "      <th>B</th>\n",
       "      <th>C</th>\n",
       "      <th>D</th>\n",
       "    </tr>\n",
       "    <tr>\n",
       "      <th>Year</th>\n",
       "      <th>Quarter End</th>\n",
       "      <th></th>\n",
       "      <th></th>\n",
       "      <th></th>\n",
       "      <th></th>\n",
       "    </tr>\n",
       "  </thead>\n",
       "  <tbody>\n",
       "    <tr>\n",
       "      <th rowspan=\"4\" valign=\"top\">2017</th>\n",
       "      <th>2017-03-31 23:24:58.403200</th>\n",
       "      <td>0.448374</td>\n",
       "      <td>0.036429</td>\n",
       "      <td>0.957139</td>\n",
       "      <td>0.926038</td>\n",
       "    </tr>\n",
       "    <tr>\n",
       "      <th>2017-06-30 23:24:58.403200</th>\n",
       "      <td>0.083659</td>\n",
       "      <td>0.023015</td>\n",
       "      <td>0.116609</td>\n",
       "      <td>0.714057</td>\n",
       "    </tr>\n",
       "    <tr>\n",
       "      <th>2017-09-30 23:24:58.403200</th>\n",
       "      <td>0.116687</td>\n",
       "      <td>0.338116</td>\n",
       "      <td>0.779541</td>\n",
       "      <td>0.241196</td>\n",
       "    </tr>\n",
       "    <tr>\n",
       "      <th>2017-12-31 23:24:58.403200</th>\n",
       "      <td>0.659253</td>\n",
       "      <td>0.513945</td>\n",
       "      <td>0.368346</td>\n",
       "      <td>0.273506</td>\n",
       "    </tr>\n",
       "    <tr>\n",
       "      <th rowspan=\"2\" valign=\"top\">2018</th>\n",
       "      <th>2018-03-31 23:24:58.403200</th>\n",
       "      <td>0.756730</td>\n",
       "      <td>0.928519</td>\n",
       "      <td>0.167211</td>\n",
       "      <td>0.950219</td>\n",
       "    </tr>\n",
       "    <tr>\n",
       "      <th>2018-06-30 23:24:58.403200</th>\n",
       "      <td>0.011517</td>\n",
       "      <td>0.180494</td>\n",
       "      <td>0.659840</td>\n",
       "      <td>0.844283</td>\n",
       "    </tr>\n",
       "  </tbody>\n",
       "</table>\n",
       "</div>"
      ],
      "text/plain": [
       "Group                              Group1              Group2          \n",
       "Series                                  A         B         C         D\n",
       "Year Quarter End                                                       \n",
       "2017 2017-03-31 23:24:58.403200  0.448374  0.036429  0.957139  0.926038\n",
       "     2017-06-30 23:24:58.403200  0.083659  0.023015  0.116609  0.714057\n",
       "     2017-09-30 23:24:58.403200  0.116687  0.338116  0.779541  0.241196\n",
       "     2017-12-31 23:24:58.403200  0.659253  0.513945  0.368346  0.273506\n",
       "2018 2018-03-31 23:24:58.403200  0.756730  0.928519  0.167211  0.950219\n",
       "     2018-06-30 23:24:58.403200  0.011517  0.180494  0.659840  0.844283"
      ]
     },
     "execution_count": 5,
     "metadata": {},
     "output_type": "execute_result"
    }
   ],
   "source": [
    "df"
   ]
  },
  {
   "cell_type": "markdown",
   "metadata": {
    "slideshow": {
     "slide_type": "slide"
    }
   },
   "source": [
    "# Create Presentation"
   ]
  },
  {
   "cell_type": "code",
   "execution_count": 6,
   "metadata": {
    "collapsed": true,
    "slideshow": {
     "slide_type": "fragment"
    }
   },
   "outputs": [],
   "source": [
    "ppt = pptx.Presentation('blank_presentation_2016.pptx')"
   ]
  },
  {
   "cell_type": "markdown",
   "metadata": {},
   "source": [
    "# Convencience Functions\n",
    "\n",
    "For your convenience, some functions are provided thru a Handler class to make accessing PPT template slides easier."
   ]
  },
  {
   "cell_type": "code",
   "execution_count": 7,
   "metadata": {},
   "outputs": [],
   "source": [
    "Handler = mspandas.pandasPPT.Handler()"
   ]
  },
  {
   "cell_type": "markdown",
   "metadata": {
    "slideshow": {
     "slide_type": "slide"
    }
   },
   "source": [
    "# Map Layouts\n",
    "\n",
    "`mspandas` has a helper method to return slide layouts in the powerpoint template as a dictionary with keys as layout names, for easy retrieval. The same logic is applied to shapes on layouts."
   ]
  },
  {
   "cell_type": "code",
   "execution_count": 8,
   "metadata": {
    "slideshow": {
     "slide_type": "fragment"
    }
   },
   "outputs": [
    {
     "name": "stdout",
     "output_type": "stream",
     "text": [
      "Title Slide\n",
      "Title and Content\n",
      "Section Header\n",
      "Two Content\n",
      "Two Content Modified\n",
      "Comparison\n",
      "Title Only\n",
      "Blank\n",
      "Content with Caption\n",
      "Picture with Caption\n",
      "Title and Vertical Text\n",
      "Vertical Title and Text\n"
     ]
    }
   ],
   "source": [
    "layout_map = Handler.map_layouts(ppt=ppt, verbose=True)"
   ]
  },
  {
   "cell_type": "markdown",
   "metadata": {
    "slideshow": {
     "slide_type": "slide"
    }
   },
   "source": [
    "# Add Content\n",
    "\n",
    "**Recursively add content to ppt with the following process:**\n",
    "    1. add a slide using an available layout\n",
    "    2. map the shapes available in layout\n",
    "    3. define placeholders using shape map\n",
    "    4. add content to placeholders"
   ]
  },
  {
   "cell_type": "markdown",
   "metadata": {},
   "source": [
    "## Add a slide using an available layout"
   ]
  },
  {
   "cell_type": "code",
   "execution_count": 9,
   "metadata": {
    "collapsed": true,
    "slideshow": {
     "slide_type": "fragment"
    }
   },
   "outputs": [],
   "source": [
    "slide = ppt.slides.add_slide(layout_map['Two Content Modified'])"
   ]
  },
  {
   "cell_type": "markdown",
   "metadata": {},
   "source": [
    "## Map the shapes available in layout"
   ]
  },
  {
   "cell_type": "code",
   "execution_count": 10,
   "metadata": {},
   "outputs": [
    {
     "name": "stdout",
     "output_type": "stream",
     "text": [
      "Title 1 index: 0, type: TITLE (1)\n",
      "Date Placeholder 4 index: 10, type: DATE (16)\n",
      "Footer Placeholder 5 index: 11, type: FOOTER (15)\n",
      "Slide Number Placeholder 6 index: 12, type: SLIDE_NUMBER (13)\n",
      "Table Placeholder 8 index: 13, type: TABLE (12)\n",
      "Chart Placeholder 10 index: 14, type: CHART (8)\n"
     ]
    }
   ],
   "source": [
    "shape_map = Handler.map_shapes(layout_map['Two Content Modified'], verbose=True)"
   ]
  },
  {
   "cell_type": "markdown",
   "metadata": {},
   "source": [
    "## Define placeholders using shape map"
   ]
  },
  {
   "cell_type": "code",
   "execution_count": 11,
   "metadata": {
    "collapsed": true,
    "slideshow": {
     "slide_type": "fragment"
    }
   },
   "outputs": [],
   "source": [
    "title_shape = slide.placeholders[shape_map['Title 1']]\n",
    "table_shape = slide.placeholders[shape_map['Table Placeholder 8']]"
   ]
  },
  {
   "cell_type": "markdown",
   "metadata": {},
   "source": [
    "## Add content to placeholders"
   ]
  },
  {
   "cell_type": "code",
   "execution_count": 12,
   "metadata": {
    "collapsed": true,
    "slideshow": {
     "slide_type": "fragment"
    }
   },
   "outputs": [],
   "source": [
    "title_shape.text = 'mspandas Demo'"
   ]
  },
  {
   "cell_type": "code",
   "execution_count": 13,
   "metadata": {
    "collapsed": true,
    "slideshow": {
     "slide_type": "fragment"
    }
   },
   "outputs": [],
   "source": [
    "table = Table(table_shape, df,\n",
    "              header=True, index=True,\n",
    "              dtype_format={np.datetime64:'%b %d, %Y',\n",
    "                            np.float:'{:.2f}%'},\n",
    "              font_size=9, header_font_color='#FFFFFF',\n",
    "              column_totals=True, row_totals=True,\n",
    "              keep_names='index')\n",
    "\n",
    "# required call to convert DataFrame to Table\n",
    "output_df = table.convert()"
   ]
  },
  {
   "cell_type": "markdown",
   "metadata": {
    "slideshow": {
     "slide_type": "slide"
    }
   },
   "source": [
    "# Save Report"
   ]
  },
  {
   "cell_type": "code",
   "execution_count": 14,
   "metadata": {
    "collapsed": true,
    "slideshow": {
     "slide_type": "fragment"
    }
   },
   "outputs": [],
   "source": [
    "ppt.save('example_report.pptx')"
   ]
  },
  {
   "cell_type": "markdown",
   "metadata": {
    "slideshow": {
     "slide_type": "slide"
    }
   },
   "source": [
    "# Preview"
   ]
  },
  {
   "cell_type": "markdown",
   "metadata": {
    "slideshow": {
     "slide_type": "fragment"
    }
   },
   "source": [
    "![Example Slide](example_slide.png)"
   ]
  }
 ],
 "metadata": {
  "celltoolbar": "Slideshow",
  "kernelspec": {
   "display_name": "Python 3",
   "language": "python",
   "name": "python3"
  },
  "language_info": {
   "codemirror_mode": {
    "name": "ipython",
    "version": 3
   },
   "file_extension": ".py",
   "mimetype": "text/x-python",
   "name": "python",
   "nbconvert_exporter": "python",
   "pygments_lexer": "ipython3",
   "version": "3.6.3"
  }
 },
 "nbformat": 4,
 "nbformat_minor": 2
}
