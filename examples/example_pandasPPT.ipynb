{
 "cells": [
  {
   "cell_type": "markdown",
   "metadata": {
    "slideshow": {
     "slide_type": "slide"
    }
   },
   "source": [
    "# Example: Pandas to PowerPoint\n",
    "\n",
    "## Using: mspandas.pandasPPT\n",
    "\n",
    "This document will show you how to create a powerpoint report from python, using the `pandasPPT` module from [mspandas](https://github.com/knanne/mspandas) library.\n",
    "\n",
    "**NOTE:** The `pandasPPT` module is designed as an addition to the existing `python-pptx` library for helping to automate the process of writing Pandas DataFrames to PowerPoint presentations. Please educate yourself on how [python-pptx](https://python-pptx.readthedocs.io/en/latest/) works first.  \n",
    "\n",
    "**Author:** Kain Nanne  \n",
    "**Email:** kain.nanne@gmail.com"
   ]
  },
  {
   "cell_type": "markdown",
   "metadata": {
    "slideshow": {
     "slide_type": "slide"
    }
   },
   "source": [
    "# Contents\n",
    "\n",
    "- [Important Info](#Important-Info)\n",
    "    - [Background](#Background)\n",
    "    - [Instructions](#Instructions)\n",
    "    - [Layouts](#Layouts)\n",
    "    - [Shapes](#Shapes)\n",
    "    - [Template File](#Template-File)\n",
    "- [Dependencies](#Dependencies)\n",
    "- [Dummy Data](#Dummy-Data)\n",
    "- [Create Presentation](#Create-Presentation)\n",
    "- [Map Layouts](#Map-Layouts)\n",
    "- [Add Slide](#Add-Slide)\n",
    "- [Save Report](#Save-Report)\n",
    "- [Preview](#Preview)"
   ]
  },
  {
   "cell_type": "markdown",
   "metadata": {
    "slideshow": {
     "slide_type": "slide"
    }
   },
   "source": [
    "# Important Info\n",
    "\n",
    "## Background\n",
    "\n",
    "To initialize a report, we utilize a \"template\". This is simply a blank presentation. The presentation contains a slide master by default which can be customized with preset \"layouts\" based on your brand's styleguide.  \n",
    "\n",
    "Example tasks of customizing a template for reusable reporting would include:  \n",
    "\n",
    "- Add placeholders to layouts for reporting objects to be appended to (e.g. chart, table, picture)\n",
    "- Rename the placeholders with logical names for fetching in python (e.g. chart, table, picture)\n",
    "- Rename the layouts with logical names for fetching in python (e.g. custom_chart, custom_chart_table)\n",
    "\n",
    "## Instructions\n",
    "\n",
    "The process to create the powerpoint report in python is the following:\n",
    "    - create a new ppt object from template\n",
    "    - map the layouts available in template\n",
    "    - recursively add content to ppt with the following process:\n",
    "        - add a slide using an available layout\n",
    "        - map the shapes available in layout\n",
    "        - add content to a shape\n",
    "    - save the ppt object to file\n",
    "    \n",
    "Use the following code to create a ppt object from a template file:\n",
    "\n",
    "```python\n",
    "# create new presentation\n",
    "ppt = pptx.Presentation('template.pptx')\n",
    "```\n",
    "\n",
    "Use the following code to save a ppt object to file when finished:\n",
    "\n",
    "```python\n",
    "# save presentation to file\n",
    "ppt.save('my_custom_presentation.pptx')\n",
    "```\n",
    "\n",
    "**Please educate yourself on the two important concepts below: Layouts and Shapes.**\n",
    "\n",
    "\n",
    "## Layouts\n",
    "\n",
    "Layouts are the predefined slide templates within a template presentation file, and are accessed and edited through the \"Slide Master\" in PowerPoint.  \n",
    "\n",
    "Use the following code to map layouts in a ppt object, and add a new slide to a ppt object.  \n",
    "\n",
    "```python\n",
    "# create a map of template layouts\n",
    "layout_map = Handler.map_layouts(ppt=ppt)\n",
    "\n",
    "# add slide to ppt from layout\n",
    "slide = ppt.slides.add_slide(layout_map['custom_text'])\n",
    "```\n",
    "\n",
    "## Shapes\n",
    "\n",
    "Shapes are the predefined placeholder objects on a slide layout, used for adding content to the slide. The shapes used are: `table`, `chart`, `text`, and `picture`. \n",
    "\n",
    "Use the following code to map shapes in a slide layout, and add content to a shape.\n",
    "\n",
    "```python\n",
    "# create a map of layout shapes\n",
    "shape_map = Handler.map_shapes(layout_map['custom_text'])\n",
    "\n",
    "# define placeholders using shape map\n",
    "shape_title = slide.placeholders[shape_map['title']]\n",
    "shape_text = slide.placeholders[shape_map['text']]\n",
    "\n",
    "# add title\n",
    "shape_title.text = 'Dummy Title'\n",
    "\n",
    "# add text\n",
    "shape_text.text = 'Dummy Text'\n",
    "```\n",
    "\n",
    "**Note that charts can only be added to chart placeholders and tables can only be added to table placeholders.** This means you will need to explicitly define a slide layout with these shapes.  \n",
    "\n",
    "## Template File\n",
    "\n",
    "To create a reusable report, you will need to know how to edit the template file yourself.  \n",
    "\n",
    "To access layouts in powerpoint:\n",
    "- Open the template file, go to `View > Slide Master`\n",
    "\n",
    "To add a layout:\n",
    "- In the slide master, either copy an existing layout and paste it or right click and select `Insert Slide Layout`\n",
    "\n",
    "To rename a layout:\n",
    "- In the slide master, right click on a layout and select `Rename`\n",
    "\n",
    "To add a placeholder shape:\n",
    "- In a slide layout, go to `Slide Master > Insert Placeholder`\n",
    "\n",
    "To rename a placeholder shape:\n",
    "- In a slide layout, click on a placeholder and go to `Format > Selection Pane` then double click an existing placeholder name in the menu to rename it"
   ]
  },
  {
   "cell_type": "markdown",
   "metadata": {
    "slideshow": {
     "slide_type": "slide"
    }
   },
   "source": [
    "# Dependencies\n",
    "\n",
    "To install mspandas, refer to the [project's homepage](https://github.com/knanne/mspandas/#Installation)\n",
    "\n",
    "You will also need the following libraries installed:  \n",
    "\n",
    "[Python PPTX](https://python-pptx.readthedocs.io/en/latest/). Install via `pip install python-pptx`  \n",
    "\n",
    "[Pandas](http://pandas.pydata.org/). Install via `pip install pandas`  \n",
    "\n",
    "[Numpy](http://www.numpy.org/). Install via `pip install numpy`  "
   ]
  },
  {
   "cell_type": "code",
   "execution_count": 1,
   "metadata": {
    "collapsed": true,
    "slideshow": {
     "slide_type": "fragment"
    }
   },
   "outputs": [],
   "source": [
    "from mspandas import pandasPPT\n",
    "\n",
    "Handler = pandasPPT.Handler()"
   ]
  },
  {
   "cell_type": "code",
   "execution_count": 2,
   "metadata": {
    "collapsed": true,
    "slideshow": {
     "slide_type": "fragment"
    }
   },
   "outputs": [],
   "source": [
    "import pptx\n",
    "import pandas as pd\n",
    "import numpy as np"
   ]
  },
  {
   "cell_type": "markdown",
   "metadata": {
    "slideshow": {
     "slide_type": "slide"
    }
   },
   "source": [
    "# Dummy Data\n",
    "\n",
    "For convenience, some dummy data is provided in the tools Module of mspandas.  "
   ]
  },
  {
   "cell_type": "code",
   "execution_count": null,
   "metadata": {
    "collapsed": true,
    "slideshow": {
     "slide_type": "fragment"
    }
   },
   "outputs": [],
   "source": [
    "from mspandas.tools import Dummy"
   ]
  },
  {
   "cell_type": "code",
   "execution_count": 3,
   "metadata": {
    "collapsed": true,
    "slideshow": {
     "slide_type": "fragment"
    }
   },
   "outputs": [],
   "source": [
    "df = Dummy.df"
   ]
  },
  {
   "cell_type": "code",
   "execution_count": 4,
   "metadata": {
    "slideshow": {
     "slide_type": "fragment"
    }
   },
   "outputs": [
    {
     "data": {
      "text/html": [
       "<div>\n",
       "<style>\n",
       "    .dataframe thead tr:only-child th {\n",
       "        text-align: right;\n",
       "    }\n",
       "\n",
       "    .dataframe thead th {\n",
       "        text-align: left;\n",
       "    }\n",
       "\n",
       "    .dataframe tbody tr th {\n",
       "        vertical-align: top;\n",
       "    }\n",
       "</style>\n",
       "<table border=\"1\" class=\"dataframe\">\n",
       "  <thead>\n",
       "    <tr style=\"text-align: right;\">\n",
       "      <th></th>\n",
       "      <th>a</th>\n",
       "      <th>b</th>\n",
       "      <th>c</th>\n",
       "      <th>d</th>\n",
       "    </tr>\n",
       "  </thead>\n",
       "  <tbody>\n",
       "    <tr>\n",
       "      <th>2012</th>\n",
       "      <td>0.256123</td>\n",
       "      <td>0.511147</td>\n",
       "      <td>0.133852</td>\n",
       "      <td>0.633489</td>\n",
       "    </tr>\n",
       "    <tr>\n",
       "      <th>2013</th>\n",
       "      <td>0.189387</td>\n",
       "      <td>0.833637</td>\n",
       "      <td>0.585314</td>\n",
       "      <td>0.870202</td>\n",
       "    </tr>\n",
       "    <tr>\n",
       "      <th>2014</th>\n",
       "      <td>0.013801</td>\n",
       "      <td>0.860182</td>\n",
       "      <td>0.714731</td>\n",
       "      <td>0.131366</td>\n",
       "    </tr>\n",
       "    <tr>\n",
       "      <th>2015</th>\n",
       "      <td>0.131033</td>\n",
       "      <td>0.062618</td>\n",
       "      <td>0.683038</td>\n",
       "      <td>0.777027</td>\n",
       "    </tr>\n",
       "    <tr>\n",
       "      <th>2016</th>\n",
       "      <td>0.365868</td>\n",
       "      <td>0.775828</td>\n",
       "      <td>0.419982</td>\n",
       "      <td>0.593267</td>\n",
       "    </tr>\n",
       "    <tr>\n",
       "      <th>2017</th>\n",
       "      <td>0.127382</td>\n",
       "      <td>0.485346</td>\n",
       "      <td>0.393951</td>\n",
       "      <td>0.496287</td>\n",
       "    </tr>\n",
       "  </tbody>\n",
       "</table>\n",
       "</div>"
      ],
      "text/plain": [
       "             a         b         c         d\n",
       "2012  0.256123  0.511147  0.133852  0.633489\n",
       "2013  0.189387  0.833637  0.585314  0.870202\n",
       "2014  0.013801  0.860182  0.714731  0.131366\n",
       "2015  0.131033  0.062618  0.683038  0.777027\n",
       "2016  0.365868  0.775828  0.419982  0.593267\n",
       "2017  0.127382  0.485346  0.393951  0.496287"
      ]
     },
     "execution_count": 4,
     "metadata": {},
     "output_type": "execute_result"
    }
   ],
   "source": [
    "# we will use this for creating a chart\n",
    "df"
   ]
  },
  {
   "cell_type": "code",
   "execution_count": 5,
   "metadata": {
    "slideshow": {
     "slide_type": "fragment"
    }
   },
   "outputs": [
    {
     "data": {
      "text/html": [
       "<div>\n",
       "<style>\n",
       "    .dataframe thead tr:only-child th {\n",
       "        text-align: right;\n",
       "    }\n",
       "\n",
       "    .dataframe thead th {\n",
       "        text-align: left;\n",
       "    }\n",
       "\n",
       "    .dataframe tbody tr th {\n",
       "        vertical-align: top;\n",
       "    }\n",
       "</style>\n",
       "<table border=\"1\" class=\"dataframe\">\n",
       "  <thead>\n",
       "    <tr style=\"text-align: right;\">\n",
       "      <th></th>\n",
       "      <th>2012</th>\n",
       "      <th>2013</th>\n",
       "      <th>2014</th>\n",
       "      <th>2015</th>\n",
       "      <th>2016</th>\n",
       "      <th>2017</th>\n",
       "    </tr>\n",
       "  </thead>\n",
       "  <tbody>\n",
       "    <tr>\n",
       "      <th>a</th>\n",
       "      <td>0.256123</td>\n",
       "      <td>0.189387</td>\n",
       "      <td>0.013801</td>\n",
       "      <td>0.131033</td>\n",
       "      <td>0.365868</td>\n",
       "      <td>0.127382</td>\n",
       "    </tr>\n",
       "    <tr>\n",
       "      <th>b</th>\n",
       "      <td>0.511147</td>\n",
       "      <td>0.833637</td>\n",
       "      <td>0.860182</td>\n",
       "      <td>0.062618</td>\n",
       "      <td>0.775828</td>\n",
       "      <td>0.485346</td>\n",
       "    </tr>\n",
       "    <tr>\n",
       "      <th>c</th>\n",
       "      <td>0.133852</td>\n",
       "      <td>0.585314</td>\n",
       "      <td>0.714731</td>\n",
       "      <td>0.683038</td>\n",
       "      <td>0.419982</td>\n",
       "      <td>0.393951</td>\n",
       "    </tr>\n",
       "    <tr>\n",
       "      <th>d</th>\n",
       "      <td>0.633489</td>\n",
       "      <td>0.870202</td>\n",
       "      <td>0.131366</td>\n",
       "      <td>0.777027</td>\n",
       "      <td>0.593267</td>\n",
       "      <td>0.496287</td>\n",
       "    </tr>\n",
       "  </tbody>\n",
       "</table>\n",
       "</div>"
      ],
      "text/plain": [
       "       2012      2013      2014      2015      2016      2017\n",
       "a  0.256123  0.189387  0.013801  0.131033  0.365868  0.127382\n",
       "b  0.511147  0.833637  0.860182  0.062618  0.775828  0.485346\n",
       "c  0.133852  0.585314  0.714731  0.683038  0.419982  0.393951\n",
       "d  0.633489  0.870202  0.131366  0.777027  0.593267  0.496287"
      ]
     },
     "execution_count": 5,
     "metadata": {},
     "output_type": "execute_result"
    }
   ],
   "source": [
    "# we will use the transpose for creating a table\n",
    "df.T"
   ]
  },
  {
   "cell_type": "markdown",
   "metadata": {
    "slideshow": {
     "slide_type": "slide"
    }
   },
   "source": [
    "# Create Presentation"
   ]
  },
  {
   "cell_type": "code",
   "execution_count": 6,
   "metadata": {
    "collapsed": true,
    "slideshow": {
     "slide_type": "fragment"
    }
   },
   "outputs": [],
   "source": [
    "ppt = pptx.Presentation('blank_presentation_2016.pptx')"
   ]
  },
  {
   "cell_type": "markdown",
   "metadata": {
    "slideshow": {
     "slide_type": "slide"
    }
   },
   "source": [
    "# Map Layouts\n",
    "\n",
    "`mspandas` has a helper method to return slide layouts in the powerpoint template as a dictionary with keys as layout names, for easy retrieval. The same logic is applied to shapes on layouts."
   ]
  },
  {
   "cell_type": "code",
   "execution_count": 7,
   "metadata": {
    "slideshow": {
     "slide_type": "fragment"
    }
   },
   "outputs": [
    {
     "name": "stdout",
     "output_type": "stream",
     "text": [
      "Title Slide\n",
      "Title and Content\n",
      "Section Header\n",
      "Two Content\n",
      "Two Content Modified\n",
      "Comparison\n",
      "Title Only\n",
      "Blank\n",
      "Content with Caption\n",
      "Picture with Caption\n",
      "Title and Vertical Text\n",
      "Vertical Title and Text\n"
     ]
    }
   ],
   "source": [
    "layout_map = Handler.map_layouts(ppt=ppt, verbose=True)"
   ]
  },
  {
   "cell_type": "markdown",
   "metadata": {
    "slideshow": {
     "slide_type": "slide"
    }
   },
   "source": [
    "# Add Slide\n",
    "\n",
    "Steps for adding slides and creating content:\n",
    "\n",
    "1. create a map of layout shapes\n",
    "2. add slide to ppt from layout\n",
    "3. define placeholders using shape map\n",
    "4. add content to placeholders"
   ]
  },
  {
   "cell_type": "code",
   "execution_count": 8,
   "metadata": {
    "slideshow": {
     "slide_type": "fragment"
    }
   },
   "outputs": [
    {
     "name": "stdout",
     "output_type": "stream",
     "text": [
      "Title 1 index: 0, type: TITLE (1)\n",
      "Date Placeholder 4 index: 10, type: DATE (16)\n",
      "Footer Placeholder 5 index: 11, type: FOOTER (15)\n",
      "Slide Number Placeholder 6 index: 12, type: SLIDE_NUMBER (13)\n",
      "Table Placeholder 8 index: 13, type: TABLE (12)\n",
      "Chart Placeholder 10 index: 14, type: CHART (8)\n"
     ]
    }
   ],
   "source": [
    "shape_map = Handler.map_shapes(layout_map['Two Content Modified'], verbose=True)"
   ]
  },
  {
   "cell_type": "code",
   "execution_count": 9,
   "metadata": {
    "collapsed": true,
    "slideshow": {
     "slide_type": "fragment"
    }
   },
   "outputs": [],
   "source": [
    "slide = ppt.slides.add_slide(layout_map['Two Content Modified'])"
   ]
  },
  {
   "cell_type": "code",
   "execution_count": 10,
   "metadata": {
    "collapsed": true,
    "slideshow": {
     "slide_type": "fragment"
    }
   },
   "outputs": [],
   "source": [
    "title = slide.placeholders[shape_map['Title 1']]\n",
    "table = slide.placeholders[shape_map['Table Placeholder 8']]\n",
    "chart = slide.placeholders[shape_map['Chart Placeholder 10']]"
   ]
  },
  {
   "cell_type": "code",
   "execution_count": 11,
   "metadata": {
    "collapsed": true,
    "slideshow": {
     "slide_type": "fragment"
    }
   },
   "outputs": [],
   "source": [
    "title.text = Dummy.title"
   ]
  },
  {
   "cell_type": "code",
   "execution_count": 12,
   "metadata": {
    "collapsed": true,
    "slideshow": {
     "slide_type": "fragment"
    }
   },
   "outputs": [],
   "source": [
    "table = Handler.create_table(table, df.T, \n",
    "                             index_names=['Series'],\n",
    "                             column_totals=True, column_totals_label='Annual Total',\n",
    "                             row_totals=True, row_totals_label='Running Total')"
   ]
  },
  {
   "cell_type": "code",
   "execution_count": 13,
   "metadata": {
    "collapsed": true,
    "slideshow": {
     "slide_type": "fragment"
    }
   },
   "outputs": [],
   "source": [
    "chart = Handler.create_chart(chart, df,\n",
    "                             chart_title='Data by Series Over Time',\n",
    "                             category_axis_label='Year',\n",
    "                             value_axis_label='Data',\n",
    "                             number_format='0.0')"
   ]
  },
  {
   "cell_type": "markdown",
   "metadata": {
    "slideshow": {
     "slide_type": "slide"
    }
   },
   "source": [
    "# Save Report"
   ]
  },
  {
   "cell_type": "code",
   "execution_count": 14,
   "metadata": {
    "collapsed": true,
    "slideshow": {
     "slide_type": "fragment"
    }
   },
   "outputs": [],
   "source": [
    "ppt.save('example_report.pptx')"
   ]
  },
  {
   "cell_type": "markdown",
   "metadata": {
    "slideshow": {
     "slide_type": "slide"
    }
   },
   "source": [
    "# Preview"
   ]
  },
  {
   "cell_type": "markdown",
   "metadata": {
    "slideshow": {
     "slide_type": "fragment"
    }
   },
   "source": [
    "![Example Slide](example_slide.jpg)"
   ]
  }
 ],
 "metadata": {
  "celltoolbar": "Slideshow",
  "kernelspec": {
   "display_name": "Python 3",
   "language": "python",
   "name": "python3"
  },
  "language_info": {
   "codemirror_mode": {
    "name": "ipython",
    "version": 3
   },
   "file_extension": ".py",
   "mimetype": "text/x-python",
   "name": "python",
   "nbconvert_exporter": "python",
   "pygments_lexer": "ipython3",
   "version": "3.6.3"
  }
 },
 "nbformat": 4,
 "nbformat_minor": 2
}
