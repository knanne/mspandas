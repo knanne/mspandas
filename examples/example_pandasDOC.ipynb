{
 "cells": [
  {
   "cell_type": "markdown",
   "metadata": {},
   "source": [
    "# Example: Pandas to Word\n",
    "\n",
    "## Using: mspandas.pandasDOC\n",
    "\n",
    "This document will show you how to create a word document report from python, using the `pandasDOC` module from [mspandas](https://github.com/knanne/mspandas) library.\n",
    "\n",
    "**NOTE:** The `pandasDOC` module is designed as an addition to the existing `python-docx` library for helping to automate the process of writing Pandas DataFrames to Word presentations. Please educate yourself on how [python-docx](https://python-docx.readthedocs.io/en/latest/) works first.  "
   ]
  },
  {
   "cell_type": "markdown",
   "metadata": {},
   "source": [
    "# Contents\n",
    "\n",
    "- [Important Info](#Important-Info)\n",
    "    - [Background](#Background)\n",
    "    - [Instructions](#Instructions)\n",
    "- [Dependencies](#Dependencies)\n",
    "- [Dummy Data](#Dummy-Data)\n",
    "- [Create Presentation](#Create-Presentation)\n",
    "- [Add Content](#Add-Content)\n",
    "- [Save Report](#Save-Report)\n",
    "- [Preview](#Preview)"
   ]
  },
  {
   "cell_type": "markdown",
   "metadata": {},
   "source": [
    "# Important Info\n",
    "\n",
    "## Background\n",
    "\n",
    "To create a sample report, we initialize a docx.Document which will build the necessary file for us. In in this case, it is not necessary to have a template file. However, you may wish to create one with preset formatting based on your brand's styleguide.\n",
    "\n",
    "## Instructions\n",
    "\n",
    "The process to create the word report in python is the following:\n",
    "\n",
    "- create a new doc object using initialize, or by importing a template \n",
    "- recursively add content to doc with one of the following processes:\n",
    "    - add a paragragh to the document\n",
    "    - add a table to the document with `mspandas.pandasDOC.create_table()`\n",
    "    - add an image to the document (e.g. matplotlib exported image)\n",
    "- save the doc object to file\n",
    "\n",
    "**Note that this library currently only supports the creation of tables in Word.** This means, in order to add visualizations, you will need to create your own charts in python and add these as static images to the Word document."
   ]
  },
  {
   "cell_type": "markdown",
   "metadata": {},
   "source": [
    "# Dependencies\n",
    "\n",
    "To install mspandas, refer to the [project's homepage](https://github.com/knanne/mspandas/#Installation)\n",
    "\n",
    "You will also need the following libraries installed:  \n",
    "\n",
    "[Python DOCX](https://python-docx.readthedocs.io/en/latest/). Install via `pip install python-docx`  \n",
    "\n",
    "[Pandas](http://pandas.pydata.org/). Install via `pip install pandas`  \n",
    "\n",
    "[Numpy](http://www.numpy.org/). Install via `pip install numpy`  "
   ]
  },
  {
   "cell_type": "code",
   "execution_count": 1,
   "metadata": {},
   "outputs": [],
   "source": [
    "import sys\n",
    "import os\n",
    "\n",
    "# define path\n",
    "mspandas = 'C:/Users/Kain/OneDrive/projects/mspandas/'\n",
    "\n",
    "# add mspandas to path\n",
    "sys.path.append(os.path.abspath(mspandas))"
   ]
  },
  {
   "cell_type": "code",
   "execution_count": 2,
   "metadata": {},
   "outputs": [],
   "source": [
    "import mspandas\n",
    "from mspandas.pandasDOC import Table\n",
    "from mspandas.utils.doc import docFunctions\n",
    "from mspandas.utils.pd import pdFunctions"
   ]
  },
  {
   "cell_type": "code",
   "execution_count": 3,
   "metadata": {},
   "outputs": [],
   "source": [
    "import docx\n",
    "import pandas as pd\n",
    "import numpy as np"
   ]
  },
  {
   "cell_type": "markdown",
   "metadata": {},
   "source": [
    "# Dummy Data\n",
    "\n",
    "\n",
    "For the purpose of this demo, let's create a Pandas DataFrame made out of dummy data and add some complex structures like a multiindex and timeseries.  "
   ]
  },
  {
   "cell_type": "code",
   "execution_count": 4,
   "metadata": {},
   "outputs": [],
   "source": [
    "df = pd.DataFrame(np.random.rand(6, 4),\n",
    "                  columns=pd.MultiIndex.from_tuples([('Group1','A'),('Group1','B'),('Group2','C'),('Group2','D')]),\n",
    "                  index=pd.MultiIndex.from_tuples([(d.strftime('%Y'),d) for d in pd.date_range(end=pd.datetime.now(), periods=6, freq='Q')]))\n",
    "\n",
    "df.columns = df.columns.set_names(['Group','Series'])\n",
    "df.index = df.index.set_names(['Year','Quarter End'])"
   ]
  },
  {
   "cell_type": "code",
   "execution_count": 5,
   "metadata": {},
   "outputs": [
    {
     "data": {
      "text/html": [
       "<div>\n",
       "<style scoped>\n",
       "    .dataframe tbody tr th:only-of-type {\n",
       "        vertical-align: middle;\n",
       "    }\n",
       "\n",
       "    .dataframe tbody tr th {\n",
       "        vertical-align: top;\n",
       "    }\n",
       "\n",
       "    .dataframe thead tr th {\n",
       "        text-align: left;\n",
       "    }\n",
       "\n",
       "    .dataframe thead tr:last-of-type th {\n",
       "        text-align: right;\n",
       "    }\n",
       "</style>\n",
       "<table border=\"1\" class=\"dataframe\">\n",
       "  <thead>\n",
       "    <tr>\n",
       "      <th></th>\n",
       "      <th>Group</th>\n",
       "      <th colspan=\"2\" halign=\"left\">Group1</th>\n",
       "      <th colspan=\"2\" halign=\"left\">Group2</th>\n",
       "    </tr>\n",
       "    <tr>\n",
       "      <th></th>\n",
       "      <th>Series</th>\n",
       "      <th>A</th>\n",
       "      <th>B</th>\n",
       "      <th>C</th>\n",
       "      <th>D</th>\n",
       "    </tr>\n",
       "    <tr>\n",
       "      <th>Year</th>\n",
       "      <th>Quarter End</th>\n",
       "      <th></th>\n",
       "      <th></th>\n",
       "      <th></th>\n",
       "      <th></th>\n",
       "    </tr>\n",
       "  </thead>\n",
       "  <tbody>\n",
       "    <tr>\n",
       "      <th rowspan=\"2\" valign=\"top\">2018</th>\n",
       "      <th>2018-09-30 12:28:45.380465</th>\n",
       "      <td>0.947519</td>\n",
       "      <td>0.725774</td>\n",
       "      <td>0.622965</td>\n",
       "      <td>0.606724</td>\n",
       "    </tr>\n",
       "    <tr>\n",
       "      <th>2018-12-31 12:28:45.380465</th>\n",
       "      <td>0.064062</td>\n",
       "      <td>0.271584</td>\n",
       "      <td>0.661532</td>\n",
       "      <td>0.855130</td>\n",
       "    </tr>\n",
       "    <tr>\n",
       "      <th rowspan=\"4\" valign=\"top\">2019</th>\n",
       "      <th>2019-03-31 12:28:45.380465</th>\n",
       "      <td>0.913462</td>\n",
       "      <td>0.076513</td>\n",
       "      <td>0.301850</td>\n",
       "      <td>0.354734</td>\n",
       "    </tr>\n",
       "    <tr>\n",
       "      <th>2019-06-30 12:28:45.380465</th>\n",
       "      <td>0.710577</td>\n",
       "      <td>0.001451</td>\n",
       "      <td>0.187222</td>\n",
       "      <td>0.947276</td>\n",
       "    </tr>\n",
       "    <tr>\n",
       "      <th>2019-09-30 12:28:45.380465</th>\n",
       "      <td>0.649732</td>\n",
       "      <td>0.283460</td>\n",
       "      <td>0.897122</td>\n",
       "      <td>0.843704</td>\n",
       "    </tr>\n",
       "    <tr>\n",
       "      <th>2019-12-31 12:28:45.380465</th>\n",
       "      <td>0.948963</td>\n",
       "      <td>0.560266</td>\n",
       "      <td>0.836463</td>\n",
       "      <td>0.812310</td>\n",
       "    </tr>\n",
       "  </tbody>\n",
       "</table>\n",
       "</div>"
      ],
      "text/plain": [
       "Group                              Group1              Group2          \n",
       "Series                                  A         B         C         D\n",
       "Year Quarter End                                                       \n",
       "2018 2018-09-30 12:28:45.380465  0.947519  0.725774  0.622965  0.606724\n",
       "     2018-12-31 12:28:45.380465  0.064062  0.271584  0.661532  0.855130\n",
       "2019 2019-03-31 12:28:45.380465  0.913462  0.076513  0.301850  0.354734\n",
       "     2019-06-30 12:28:45.380465  0.710577  0.001451  0.187222  0.947276\n",
       "     2019-09-30 12:28:45.380465  0.649732  0.283460  0.897122  0.843704\n",
       "     2019-12-31 12:28:45.380465  0.948963  0.560266  0.836463  0.812310"
      ]
     },
     "execution_count": 5,
     "metadata": {},
     "output_type": "execute_result"
    }
   ],
   "source": [
    "df"
   ]
  },
  {
   "cell_type": "markdown",
   "metadata": {},
   "source": [
    "# Create Presentation"
   ]
  },
  {
   "cell_type": "code",
   "execution_count": 6,
   "metadata": {},
   "outputs": [],
   "source": [
    "doc = docx.Document()"
   ]
  },
  {
   "cell_type": "markdown",
   "metadata": {},
   "source": [
    "# Add Content"
   ]
  },
  {
   "cell_type": "code",
   "execution_count": 7,
   "metadata": {},
   "outputs": [],
   "source": [
    "h = doc.add_heading(text='mspandas Demo', level=0)"
   ]
  },
  {
   "cell_type": "code",
   "execution_count": 8,
   "metadata": {},
   "outputs": [],
   "source": [
    "p = doc.add_paragraph()"
   ]
  },
  {
   "cell_type": "code",
   "execution_count": 9,
   "metadata": {
    "scrolled": false
   },
   "outputs": [],
   "source": [
    "table = Table(doc, df,\n",
    "              header=True, index=True,\n",
    "              dtype_format={np.datetime64:'%b %d, %Y',\n",
    "                            np.float64:'{:.2f}%'},\n",
    "              font_size=9, header_font_color='#FFFFFF',\n",
    "              column_totals=True, row_totals=True,\n",
    "              keep_names='index')\n",
    "\n",
    "# required call to convert DataFrame to Table\n",
    "output_df = table.convert()"
   ]
  },
  {
   "cell_type": "markdown",
   "metadata": {},
   "source": [
    "# Save Report"
   ]
  },
  {
   "cell_type": "code",
   "execution_count": 10,
   "metadata": {},
   "outputs": [],
   "source": [
    "doc.save('example_report.docx')"
   ]
  },
  {
   "cell_type": "markdown",
   "metadata": {},
   "source": [
    "# Preview"
   ]
  },
  {
   "cell_type": "markdown",
   "metadata": {},
   "source": [
    "![Example Page](example_page.png)"
   ]
  }
 ],
 "metadata": {
  "kernelspec": {
   "display_name": "Python 3",
   "language": "python",
   "name": "python3"
  },
  "language_info": {
   "codemirror_mode": {
    "name": "ipython",
    "version": 3
   },
   "file_extension": ".py",
   "mimetype": "text/x-python",
   "name": "python",
   "nbconvert_exporter": "python",
   "pygments_lexer": "ipython3",
   "version": "3.6.8"
  }
 },
 "nbformat": 4,
 "nbformat_minor": 2
}
