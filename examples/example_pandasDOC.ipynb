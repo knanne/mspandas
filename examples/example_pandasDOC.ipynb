{
 "cells": [
  {
   "cell_type": "markdown",
   "metadata": {
    "slideshow": {
     "slide_type": "slide"
    }
   },
   "source": [
    "# Example: Pandas to Word\n",
    "\n",
    "## Using: mspandas.pandasDOC\n",
    "\n",
    "This document will show you how to create a word document report from python, using the `pandasDOC` module from [mspandas](https://github.com/knanne/mspandas) library.\n",
    "\n",
    "**NOTE:** The `pandasDOC` module is designed as an addition to the existing `python-docx` library for helping to automate the process of writing Pandas DataFrames to Word Document reports. Please educate yourself on how [python-docx](https://python-docx.readthedocs.io/en/latest/) works first.  \n",
    "\n",
    "**Author:** Kain Nanne  \n",
    "**Email:** kain.nanne@gmail.com"
   ]
  },
  {
   "cell_type": "markdown",
   "metadata": {
    "slideshow": {
     "slide_type": "slide"
    }
   },
   "source": [
    "# Contents\n",
    "\n",
    "- [Important Info](#Important-Info)\n",
    "    - [Background](#Background)\n",
    "    - [Instructions](#Instructions)\n",
    "- [Dependencies](#Dependencies)\n",
    "- [Dummy Data](#Dummy-Data)\n",
    "- [Create Presentation](#Create-Presentation)\n",
    "- [Add Content](#Add-Content)\n",
    "- [Save Report](#Save-Report)\n",
    "- [Preview](#Preview)"
   ]
  },
  {
   "cell_type": "markdown",
   "metadata": {
    "slideshow": {
     "slide_type": "slide"
    }
   },
   "source": [
    "# Important Info\n",
    "\n",
    "## Background\n",
    "\n",
    "To create a sample report, we initialize a `docx.Document` which will build the necessary file for us. In in this case, it is not necessary to have a template file. However, you may wish to create one with preset formatting based on your brand's styleguide.  \n",
    "\n",
    "## Instructions\n",
    "\n",
    "The process to create the word report in python is the following:\n",
    "    - create a new doc object using initialize, or by importing a template \n",
    "    - recursively add content to doc with one of the following processes:\n",
    "        - add a paragragh to the document\n",
    "        - add a table to the document with `mspandas.pandasDOC.create_table()`\n",
    "        - add an image to the document (e.g. matplotlib exported image)\n",
    "    - save the doc object to file\n",
    "\n",
    "**Note that this library currently only supports the creation of tables in Word.** This means, in order to add visualizations, you will need to create your own charts in python and add these as static images to the Word document.  "
   ]
  },
  {
   "cell_type": "markdown",
   "metadata": {
    "slideshow": {
     "slide_type": "slide"
    }
   },
   "source": [
    "# Dependencies\n",
    "\n",
    "To install mspandas, refer to the [project's homepage](https://github.com/knanne/mspandas/#Installation)\n",
    "\n",
    "You will also need the following libraries installed:  \n",
    "\n",
    "[Python DOCX](https://python-docx.readthedocs.io/en/latest/). Install via `pip install python-docx`  \n",
    "\n",
    "[Pandas](http://pandas.pydata.org/). Install via `pip install pandas`  \n",
    "\n",
    "[Numpy](http://www.numpy.org/). Install via `pip install numpy`  "
   ]
  },
  {
   "cell_type": "code",
   "execution_count": 1,
   "metadata": {
    "slideshow": {
     "slide_type": "fragment"
    }
   },
   "outputs": [],
   "source": [
    "from mspandas import pandasDOC\n",
    "\n",
    "Handler = pandasDOC.Handler()"
   ]
  },
  {
   "cell_type": "code",
   "execution_count": 2,
   "metadata": {
    "slideshow": {
     "slide_type": "fragment"
    }
   },
   "outputs": [],
   "source": [
    "import docx\n",
    "import pandas as pd\n",
    "import numpy as np"
   ]
  },
  {
   "cell_type": "markdown",
   "metadata": {
    "slideshow": {
     "slide_type": "slide"
    }
   },
   "source": [
    "# Dummy Data\n",
    "\n",
    "For convenience, some dummy data is provided in the tools Module of mspandas.  "
   ]
  },
  {
   "cell_type": "code",
   "execution_count": 3,
   "metadata": {
    "collapsed": true,
    "slideshow": {
     "slide_type": "fragment"
    }
   },
   "outputs": [],
   "source": [
    "from mspandas.tools import Dummy"
   ]
  },
  {
   "cell_type": "code",
   "execution_count": 4,
   "metadata": {
    "collapsed": true,
    "slideshow": {
     "slide_type": "fragment"
    }
   },
   "outputs": [],
   "source": [
    "df = Dummy.df"
   ]
  },
  {
   "cell_type": "code",
   "execution_count": 5,
   "metadata": {
    "slideshow": {
     "slide_type": "fragment"
    }
   },
   "outputs": [
    {
     "data": {
      "text/html": [
       "<div>\n",
       "<style>\n",
       "    .dataframe thead tr:only-child th {\n",
       "        text-align: right;\n",
       "    }\n",
       "\n",
       "    .dataframe thead th {\n",
       "        text-align: left;\n",
       "    }\n",
       "\n",
       "    .dataframe tbody tr th {\n",
       "        vertical-align: top;\n",
       "    }\n",
       "</style>\n",
       "<table border=\"1\" class=\"dataframe\">\n",
       "  <thead>\n",
       "    <tr style=\"text-align: right;\">\n",
       "      <th></th>\n",
       "      <th>a</th>\n",
       "      <th>b</th>\n",
       "      <th>c</th>\n",
       "      <th>d</th>\n",
       "    </tr>\n",
       "  </thead>\n",
       "  <tbody>\n",
       "    <tr>\n",
       "      <th>2012</th>\n",
       "      <td>0.381536</td>\n",
       "      <td>0.994771</td>\n",
       "      <td>0.947192</td>\n",
       "      <td>0.928278</td>\n",
       "    </tr>\n",
       "    <tr>\n",
       "      <th>2013</th>\n",
       "      <td>0.904216</td>\n",
       "      <td>0.170548</td>\n",
       "      <td>0.594116</td>\n",
       "      <td>0.003869</td>\n",
       "    </tr>\n",
       "    <tr>\n",
       "      <th>2014</th>\n",
       "      <td>0.764811</td>\n",
       "      <td>0.963377</td>\n",
       "      <td>0.818402</td>\n",
       "      <td>0.284659</td>\n",
       "    </tr>\n",
       "    <tr>\n",
       "      <th>2015</th>\n",
       "      <td>0.421319</td>\n",
       "      <td>0.462740</td>\n",
       "      <td>0.262724</td>\n",
       "      <td>0.720243</td>\n",
       "    </tr>\n",
       "    <tr>\n",
       "      <th>2016</th>\n",
       "      <td>0.290679</td>\n",
       "      <td>0.278390</td>\n",
       "      <td>0.462342</td>\n",
       "      <td>0.217156</td>\n",
       "    </tr>\n",
       "    <tr>\n",
       "      <th>2017</th>\n",
       "      <td>0.379314</td>\n",
       "      <td>0.109293</td>\n",
       "      <td>0.906510</td>\n",
       "      <td>0.365670</td>\n",
       "    </tr>\n",
       "  </tbody>\n",
       "</table>\n",
       "</div>"
      ],
      "text/plain": [
       "             a         b         c         d\n",
       "2012  0.381536  0.994771  0.947192  0.928278\n",
       "2013  0.904216  0.170548  0.594116  0.003869\n",
       "2014  0.764811  0.963377  0.818402  0.284659\n",
       "2015  0.421319  0.462740  0.262724  0.720243\n",
       "2016  0.290679  0.278390  0.462342  0.217156\n",
       "2017  0.379314  0.109293  0.906510  0.365670"
      ]
     },
     "execution_count": 5,
     "metadata": {},
     "output_type": "execute_result"
    }
   ],
   "source": [
    "# we will use this for creating a chart\n",
    "df"
   ]
  },
  {
   "cell_type": "code",
   "execution_count": 6,
   "metadata": {
    "slideshow": {
     "slide_type": "fragment"
    }
   },
   "outputs": [
    {
     "data": {
      "text/html": [
       "<div>\n",
       "<style>\n",
       "    .dataframe thead tr:only-child th {\n",
       "        text-align: right;\n",
       "    }\n",
       "\n",
       "    .dataframe thead th {\n",
       "        text-align: left;\n",
       "    }\n",
       "\n",
       "    .dataframe tbody tr th {\n",
       "        vertical-align: top;\n",
       "    }\n",
       "</style>\n",
       "<table border=\"1\" class=\"dataframe\">\n",
       "  <thead>\n",
       "    <tr style=\"text-align: right;\">\n",
       "      <th></th>\n",
       "      <th>2012</th>\n",
       "      <th>2013</th>\n",
       "      <th>2014</th>\n",
       "      <th>2015</th>\n",
       "      <th>2016</th>\n",
       "      <th>2017</th>\n",
       "    </tr>\n",
       "  </thead>\n",
       "  <tbody>\n",
       "    <tr>\n",
       "      <th>a</th>\n",
       "      <td>0.381536</td>\n",
       "      <td>0.904216</td>\n",
       "      <td>0.764811</td>\n",
       "      <td>0.421319</td>\n",
       "      <td>0.290679</td>\n",
       "      <td>0.379314</td>\n",
       "    </tr>\n",
       "    <tr>\n",
       "      <th>b</th>\n",
       "      <td>0.994771</td>\n",
       "      <td>0.170548</td>\n",
       "      <td>0.963377</td>\n",
       "      <td>0.462740</td>\n",
       "      <td>0.278390</td>\n",
       "      <td>0.109293</td>\n",
       "    </tr>\n",
       "    <tr>\n",
       "      <th>c</th>\n",
       "      <td>0.947192</td>\n",
       "      <td>0.594116</td>\n",
       "      <td>0.818402</td>\n",
       "      <td>0.262724</td>\n",
       "      <td>0.462342</td>\n",
       "      <td>0.906510</td>\n",
       "    </tr>\n",
       "    <tr>\n",
       "      <th>d</th>\n",
       "      <td>0.928278</td>\n",
       "      <td>0.003869</td>\n",
       "      <td>0.284659</td>\n",
       "      <td>0.720243</td>\n",
       "      <td>0.217156</td>\n",
       "      <td>0.365670</td>\n",
       "    </tr>\n",
       "  </tbody>\n",
       "</table>\n",
       "</div>"
      ],
      "text/plain": [
       "       2012      2013      2014      2015      2016      2017\n",
       "a  0.381536  0.904216  0.764811  0.421319  0.290679  0.379314\n",
       "b  0.994771  0.170548  0.963377  0.462740  0.278390  0.109293\n",
       "c  0.947192  0.594116  0.818402  0.262724  0.462342  0.906510\n",
       "d  0.928278  0.003869  0.284659  0.720243  0.217156  0.365670"
      ]
     },
     "execution_count": 6,
     "metadata": {},
     "output_type": "execute_result"
    }
   ],
   "source": [
    "# we will use the transpose for creating a table\n",
    "df.T"
   ]
  },
  {
   "cell_type": "markdown",
   "metadata": {
    "slideshow": {
     "slide_type": "slide"
    }
   },
   "source": [
    "# Create Presentation"
   ]
  },
  {
   "cell_type": "code",
   "execution_count": 7,
   "metadata": {
    "collapsed": true,
    "slideshow": {
     "slide_type": "fragment"
    }
   },
   "outputs": [],
   "source": [
    "doc = docx.Document()"
   ]
  },
  {
   "cell_type": "markdown",
   "metadata": {
    "slideshow": {
     "slide_type": "slide"
    }
   },
   "source": [
    "# Add Content"
   ]
  },
  {
   "cell_type": "code",
   "execution_count": 8,
   "metadata": {
    "collapsed": true,
    "slideshow": {
     "slide_type": "fragment"
    }
   },
   "outputs": [],
   "source": [
    "h = doc.add_heading(text=Dummy.title, level=0)"
   ]
  },
  {
   "cell_type": "code",
   "execution_count": 9,
   "metadata": {
    "collapsed": true,
    "slideshow": {
     "slide_type": "fragment"
    }
   },
   "outputs": [],
   "source": [
    "p = doc.add_paragraph()"
   ]
  },
  {
   "cell_type": "code",
   "execution_count": 10,
   "metadata": {
    "slideshow": {
     "slide_type": "fragment"
    }
   },
   "outputs": [],
   "source": [
    "table = Handler.create_table(doc, df.T,\n",
    "                             index_names=['Series'],\n",
    "                             column_totals=True, column_totals_label='Annual Total',\n",
    "                             row_totals=True, row_totals_label='Running Total',\n",
    "                             autofit=True)"
   ]
  },
  {
   "cell_type": "markdown",
   "metadata": {
    "slideshow": {
     "slide_type": "slide"
    }
   },
   "source": [
    "# Save Report"
   ]
  },
  {
   "cell_type": "code",
   "execution_count": 11,
   "metadata": {
    "slideshow": {
     "slide_type": "fragment"
    }
   },
   "outputs": [],
   "source": [
    "doc.save('example_report.docx')"
   ]
  },
  {
   "cell_type": "markdown",
   "metadata": {
    "slideshow": {
     "slide_type": "slide"
    }
   },
   "source": [
    "# Preview"
   ]
  },
  {
   "cell_type": "markdown",
   "metadata": {
    "slideshow": {
     "slide_type": "fragment"
    }
   },
   "source": [
    "![Example Page](example_doc.jpg)"
   ]
  }
 ],
 "metadata": {
  "celltoolbar": "Slideshow",
  "kernelspec": {
   "display_name": "Python 3",
   "language": "python",
   "name": "python3"
  },
  "language_info": {
   "codemirror_mode": {
    "name": "ipython",
    "version": 3
   },
   "file_extension": ".py",
   "mimetype": "text/x-python",
   "name": "python",
   "nbconvert_exporter": "python",
   "pygments_lexer": "ipython3",
   "version": "3.6.3"
  }
 },
 "nbformat": 4,
 "nbformat_minor": 2
}
