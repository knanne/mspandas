{
 "cells": [
  {
   "cell_type": "markdown",
   "metadata": {
    "slideshow": {
     "slide_type": "slide"
    }
   },
   "source": [
    "# Example: Pandas to PowerPoint\n",
    "\n",
    "## Using: mspandas.pandasPPT\n",
    "\n",
    "This document will show you how to create a powerpoint report from python, using the `pandasPPT` module from [mspandas](https://github.com/knanne/mspandas) library.\n",
    "\n",
    "**NOTE:** The `pandasPPT` module is designed as an addition to the existing `python-pptx` library for helping to automate the process of writing Pandas DataFrames to PowerPoint presentations. Please educate yourself on how [python-pptx](https://python-pptx.readthedocs.io/en/latest/) works first.  "
   ]
  },
  {
   "cell_type": "markdown",
   "metadata": {
    "slideshow": {
     "slide_type": "slide"
    }
   },
   "source": [
    "# Contents\n",
    "\n",
    "- [Important Info](#Important-Info)\n",
    "    - [Background](#Background)\n",
    "    - [Instructions](#Instructions)\n",
    "    - [Layouts](#Layouts)\n",
    "    - [Shapes](#Shapes)\n",
    "    - [Template File](#Template-File)\n",
    "- [Dependencies](#Dependencies)\n",
    "- [Dummy Data](#Dummy-Data)\n",
    "- [Create Presentation](#Create-Presentation)\n",
    "- [Map Layouts](#Map-Layouts)\n",
    "- [Add Content](#Add-Content)\n",
    "- [Save Report](#Save-Report)\n",
    "- [Preview](#Preview)"
   ]
  },
  {
   "cell_type": "markdown",
   "metadata": {
    "slideshow": {
     "slide_type": "slide"
    }
   },
   "source": [
    "# Important Info\n",
    "\n",
    "## Background\n",
    "\n",
    "To initialize a report, we utilize a \"template\". This is simply a blank presentation. The presentation contains a slide master by default which can be customized with preset \"layouts\" based on your brand's styleguide.  \n",
    "\n",
    "Example tasks of customizing a template for reusable reporting would include:  \n",
    "\n",
    "- Add placeholders to layouts for reporting objects to be appended to (e.g. chart, table, picture)\n",
    "- Rename the placeholders with logical names for fetching in python (e.g. chart, table, picture)\n",
    "- Rename the layouts with logical names for fetching in python (e.g. custom_chart, custom_chart_table)\n",
    "\n",
    "To learn more on PowerPoint templates, read [more by Microsoft here](https://support.office.com/en-us/article/design-your-slides-53c20bd5-e594-4837-a7ad-525706e09960)  \n",
    "\n",
    "## Instructions\n",
    "\n",
    "The process to create the powerpoint report in python is the following, links provided to below code.\n",
    "\n",
    "- [create a new ppt object from template](#Create-Presentation)\n",
    "- [map the layouts available in template](#Map-Layouts)\n",
    "- [recursively add content to ppt with the following process](#Add-Content)\n",
    "    1. add a slide using an available layout\n",
    "    2. map the shapes available in layout\n",
    "    3. define placeholders using shape map\n",
    "    4. add content to placeholders\n",
    "- [save the ppt object to file](#Save-Report)\n",
    "\n",
    "Use the following code to create a ppt object from a template file:\n",
    "\n",
    "```python\n",
    "# create new presentation from template\n",
    "ppt = pptx.Presentation('template.pptx')\n",
    "```\n",
    "\n",
    "Use the following code to save a ppt object to file when finished:\n",
    "\n",
    "```python\n",
    "# save modified presentation to file\n",
    "ppt.save('my_custom_presentation.pptx')\n",
    "```\n",
    "\n",
    "**Please educate yourself on the two important concepts below: Layouts and Shapes.**\n",
    "\n",
    "\n",
    "## Layouts\n",
    "\n",
    "Layouts are the predefined slide templates within a template presentation file, and are accessed and edited through the \"Slide Master\" in PowerPoint.  \n",
    "\n",
    "Use the following code to map layouts in a ppt object, and add a new slide to a ppt object.  \n",
    "\n",
    "```python\n",
    "# create a map of template layouts\n",
    "layout_map = Handler.map_layouts(ppt=ppt)\n",
    "\n",
    "# add slide to ppt from layout\n",
    "slide = ppt.slides.add_slide(layout_map['custom_text'])\n",
    "```\n",
    "\n",
    "## Shapes\n",
    "\n",
    "Shapes are the predefined placeholder objects on a slide layout, used for adding content to the slide. The shapes used are: `table`, `chart`, `text`, and `picture`. \n",
    "\n",
    "Use the following code to map shapes in a slide layout, and add content to a shape.\n",
    "\n",
    "```python\n",
    "# create a map of layout shapes\n",
    "shape_map = Handler.map_shapes(layout_map['custom_text'])\n",
    "\n",
    "# define placeholders using shape map\n",
    "title_placeholder = slide.placeholders[shape_map['title']]\n",
    "text_placeholder = slide.placeholders[shape_map['text']]\n",
    "\n",
    "# add title\n",
    "title_placeholder.text = 'Dummy Title'\n",
    "\n",
    "# add text\n",
    "text_placeholder.text = 'Dummy Text'\n",
    "```\n",
    "\n",
    "**Note that charts can only be added to chart placeholders and tables can only be added to table placeholders.** This means you will need to explicitly define a slide layout with these shapes.  \n",
    "\n",
    "## Template File\n",
    "\n",
    "To create a reusable report, you will need to know how to edit the template file yourself. This is done from the \"Slide Master\" section in PowerPoint. Breif instructions on important actions are given below, otherwise consult the [official Microsoft documentation](https://support.office.com/en-us/article/what-is-a-slide-master-b9abb2a0-7aef-4257-a14e-4329c904da54) for more reading.  \n",
    "\n",
    "To access layouts in powerpoint:\n",
    "- Open the template file, go to `View > Slide Master`\n",
    "\n",
    "To add a layout:\n",
    "- In the slide master, either copy an existing layout and paste it or right click and select `Insert Slide Layout`\n",
    "\n",
    "To rename a layout:\n",
    "- In the slide master, right click on a layout and select `Rename`\n",
    "\n",
    "To add a placeholder shape:\n",
    "- In a slide layout, go to `Slide Master > Insert Placeholder`\n",
    "\n",
    "To rename a placeholder shape:\n",
    "- (**Office 365**) Go to `Home > Select > Selection Pane` to open the selection pane sidebar.\n",
    "- (**Office 2016**) In a slide layout, click on a placeholder and go to `Format > Selection Pane` to open the selection pane sidebar.\n",
    "- Then double click an existing placehold name in the menu to rename it.\n",
    "\n",
    "This is also a good time, while still in the Slide Master, to go to `Insert > Date & Time` and checking the boxes for `Date and Time`, `Slide Number`, and `Footer` so that these are automatically generated when opening a presentation.  \n",
    "\n",
    "![Example Slide Template](example_template_presentation.png)"
   ]
  },
  {
   "cell_type": "markdown",
   "metadata": {
    "slideshow": {
     "slide_type": "slide"
    }
   },
   "source": [
    "# Dependencies\n",
    "\n",
    "To install mspandas, refer to the [project's homepage](https://github.com/knanne/mspandas/#Installation)\n",
    "\n",
    "You will also need the following libraries installed:  \n",
    "\n",
    "[Python PPTX](https://python-pptx.readthedocs.io/en/latest/). Install via `pip install python-pptx`  \n",
    "\n",
    "[Pandas](http://pandas.pydata.org/). Install via `pip install pandas`  \n",
    "\n",
    "[Numpy](http://www.numpy.org/). Install via `pip install numpy`  "
   ]
  },
  {
   "cell_type": "code",
   "execution_count": 1,
   "metadata": {},
   "outputs": [],
   "source": [
    "import sys\n",
    "import os\n",
    "\n",
    "# define path\n",
    "mspandas = 'C:/Users/Kain/OneDrive/projects/mspandas/'\n",
    "\n",
    "# add mspandas to path\n",
    "sys.path.append(os.path.abspath(mspandas))"
   ]
  },
  {
   "cell_type": "code",
   "execution_count": 2,
   "metadata": {
    "slideshow": {
     "slide_type": "fragment"
    }
   },
   "outputs": [],
   "source": [
    "import mspandas\n",
    "from mspandas.pandasPPT import Table\n",
    "from mspandas.utils.ppt import pptFunctions\n",
    "from mspandas.utils.pd import pdFunctions"
   ]
  },
  {
   "cell_type": "code",
   "execution_count": 3,
   "metadata": {
    "slideshow": {
     "slide_type": "fragment"
    }
   },
   "outputs": [],
   "source": [
    "import pptx\n",
    "import pandas as pd\n",
    "import numpy as np"
   ]
  },
  {
   "cell_type": "markdown",
   "metadata": {
    "slideshow": {
     "slide_type": "slide"
    }
   },
   "source": [
    "# Dummy Data\n",
    "\n",
    "\n",
    "For the purpose of this demo, let's create a Pandas DataFrame made out of dummy data and add some complex structures like a multiindex and timeseries.  "
   ]
  },
  {
   "cell_type": "code",
   "execution_count": 4,
   "metadata": {
    "slideshow": {
     "slide_type": "fragment"
    }
   },
   "outputs": [],
   "source": [
    "df = pd.DataFrame(np.random.rand(6, 4),\n",
    "                  columns=pd.MultiIndex.from_tuples([('Group1','A'),('Group1','B'),('Group2','C'),('Group2','D')]),\n",
    "                  index=pd.MultiIndex.from_tuples([(d.strftime('%Y'),d) for d in pd.date_range(end=pd.datetime.now(), periods=6, freq='Q')]))\n",
    "\n",
    "df.columns = df.columns.set_names(['Group','Series'])\n",
    "df.index = df.index.set_names(['Year','Quarter End'])"
   ]
  },
  {
   "cell_type": "code",
   "execution_count": 5,
   "metadata": {
    "slideshow": {
     "slide_type": "fragment"
    }
   },
   "outputs": [
    {
     "data": {
      "text/html": [
       "<div>\n",
       "<style scoped>\n",
       "    .dataframe tbody tr th:only-of-type {\n",
       "        vertical-align: middle;\n",
       "    }\n",
       "\n",
       "    .dataframe tbody tr th {\n",
       "        vertical-align: top;\n",
       "    }\n",
       "\n",
       "    .dataframe thead tr th {\n",
       "        text-align: left;\n",
       "    }\n",
       "\n",
       "    .dataframe thead tr:last-of-type th {\n",
       "        text-align: right;\n",
       "    }\n",
       "</style>\n",
       "<table border=\"1\" class=\"dataframe\">\n",
       "  <thead>\n",
       "    <tr>\n",
       "      <th></th>\n",
       "      <th>Group</th>\n",
       "      <th colspan=\"2\" halign=\"left\">Group1</th>\n",
       "      <th colspan=\"2\" halign=\"left\">Group2</th>\n",
       "    </tr>\n",
       "    <tr>\n",
       "      <th></th>\n",
       "      <th>Series</th>\n",
       "      <th>A</th>\n",
       "      <th>B</th>\n",
       "      <th>C</th>\n",
       "      <th>D</th>\n",
       "    </tr>\n",
       "    <tr>\n",
       "      <th>Year</th>\n",
       "      <th>Quarter End</th>\n",
       "      <th></th>\n",
       "      <th></th>\n",
       "      <th></th>\n",
       "      <th></th>\n",
       "    </tr>\n",
       "  </thead>\n",
       "  <tbody>\n",
       "    <tr>\n",
       "      <th rowspan=\"2\" valign=\"top\">2018</th>\n",
       "      <th>2018-09-30 12:32:57.321903</th>\n",
       "      <td>0.645851</td>\n",
       "      <td>0.683230</td>\n",
       "      <td>0.752376</td>\n",
       "      <td>0.218475</td>\n",
       "    </tr>\n",
       "    <tr>\n",
       "      <th>2018-12-31 12:32:57.321903</th>\n",
       "      <td>0.013524</td>\n",
       "      <td>0.978242</td>\n",
       "      <td>0.388967</td>\n",
       "      <td>0.461381</td>\n",
       "    </tr>\n",
       "    <tr>\n",
       "      <th rowspan=\"4\" valign=\"top\">2019</th>\n",
       "      <th>2019-03-31 12:32:57.321903</th>\n",
       "      <td>0.996422</td>\n",
       "      <td>0.584952</td>\n",
       "      <td>0.661657</td>\n",
       "      <td>0.884916</td>\n",
       "    </tr>\n",
       "    <tr>\n",
       "      <th>2019-06-30 12:32:57.321903</th>\n",
       "      <td>0.665899</td>\n",
       "      <td>0.225522</td>\n",
       "      <td>0.769981</td>\n",
       "      <td>0.992813</td>\n",
       "    </tr>\n",
       "    <tr>\n",
       "      <th>2019-09-30 12:32:57.321903</th>\n",
       "      <td>0.931330</td>\n",
       "      <td>0.586455</td>\n",
       "      <td>0.946426</td>\n",
       "      <td>0.136598</td>\n",
       "    </tr>\n",
       "    <tr>\n",
       "      <th>2019-12-31 12:32:57.321903</th>\n",
       "      <td>0.594457</td>\n",
       "      <td>0.343871</td>\n",
       "      <td>0.611724</td>\n",
       "      <td>0.373584</td>\n",
       "    </tr>\n",
       "  </tbody>\n",
       "</table>\n",
       "</div>"
      ],
      "text/plain": [
       "Group                              Group1              Group2          \n",
       "Series                                  A         B         C         D\n",
       "Year Quarter End                                                       \n",
       "2018 2018-09-30 12:32:57.321903  0.645851  0.683230  0.752376  0.218475\n",
       "     2018-12-31 12:32:57.321903  0.013524  0.978242  0.388967  0.461381\n",
       "2019 2019-03-31 12:32:57.321903  0.996422  0.584952  0.661657  0.884916\n",
       "     2019-06-30 12:32:57.321903  0.665899  0.225522  0.769981  0.992813\n",
       "     2019-09-30 12:32:57.321903  0.931330  0.586455  0.946426  0.136598\n",
       "     2019-12-31 12:32:57.321903  0.594457  0.343871  0.611724  0.373584"
      ]
     },
     "execution_count": 5,
     "metadata": {},
     "output_type": "execute_result"
    }
   ],
   "source": [
    "df"
   ]
  },
  {
   "cell_type": "markdown",
   "metadata": {
    "slideshow": {
     "slide_type": "slide"
    }
   },
   "source": [
    "# Create Presentation"
   ]
  },
  {
   "cell_type": "code",
   "execution_count": 6,
   "metadata": {
    "slideshow": {
     "slide_type": "fragment"
    }
   },
   "outputs": [],
   "source": [
    "ppt = pptx.Presentation('template_presentation_o365.pptx')"
   ]
  },
  {
   "cell_type": "markdown",
   "metadata": {
    "slideshow": {
     "slide_type": "slide"
    }
   },
   "source": [
    "# Map Layouts\n",
    "\n",
    "`mspandas` has a helper method to return slide layouts in the powerpoint template as a dictionary with keys as layout names, for easy retrieval. The same logic is applied to shapes on layouts."
   ]
  },
  {
   "cell_type": "code",
   "execution_count": 7,
   "metadata": {
    "slideshow": {
     "slide_type": "fragment"
    }
   },
   "outputs": [
    {
     "name": "stdout",
     "output_type": "stream",
     "text": [
      "Title Slide\n",
      "Custom Two Content\n"
     ]
    }
   ],
   "source": [
    "layout_map = pptFunctions.map_layouts(ppt=ppt, verbose=True)"
   ]
  },
  {
   "cell_type": "markdown",
   "metadata": {
    "slideshow": {
     "slide_type": "slide"
    }
   },
   "source": [
    "# Add Content\n",
    "\n",
    "**Recursively add content to ppt with the following process:**\n",
    "    1. add a slide using an available layout\n",
    "    2. map the shapes available in layout\n",
    "    3. define placeholders using shape map\n",
    "    4. add content to placeholders"
   ]
  },
  {
   "cell_type": "markdown",
   "metadata": {},
   "source": [
    "## Add a slide using an available layout"
   ]
  },
  {
   "cell_type": "code",
   "execution_count": 8,
   "metadata": {
    "slideshow": {
     "slide_type": "fragment"
    }
   },
   "outputs": [],
   "source": [
    "slide = ppt.slides.add_slide(layout_map['Custom Two Content'])"
   ]
  },
  {
   "cell_type": "markdown",
   "metadata": {},
   "source": [
    "## Map the shapes available in layout"
   ]
  },
  {
   "cell_type": "code",
   "execution_count": 9,
   "metadata": {},
   "outputs": [
    {
     "name": "stdout",
     "output_type": "stream",
     "text": [
      "Title index: 0, type: TITLE (1)\n",
      "Date index: 10, type: DATE (16)\n",
      "Footer index: 11, type: FOOTER (15)\n",
      "Slide Number index: 12, type: SLIDE_NUMBER (13)\n",
      "Table index: 13, type: TABLE (12)\n",
      "Chart index: 14, type: CHART (8)\n"
     ]
    }
   ],
   "source": [
    "shape_map = pptFunctions.map_shapes(layout_map['Custom Two Content'], verbose=True)"
   ]
  },
  {
   "cell_type": "markdown",
   "metadata": {},
   "source": [
    "## Define placeholders using shape map"
   ]
  },
  {
   "cell_type": "code",
   "execution_count": 10,
   "metadata": {
    "slideshow": {
     "slide_type": "fragment"
    }
   },
   "outputs": [],
   "source": [
    "title_placeholder = slide.placeholders[shape_map['Title']]\n",
    "table_placeholder = slide.placeholders[shape_map['Table']]\n",
    "chart_placeholder = slide.placeholders[shape_map['Chart']]"
   ]
  },
  {
   "cell_type": "markdown",
   "metadata": {},
   "source": [
    "## Add content to placeholders"
   ]
  },
  {
   "cell_type": "code",
   "execution_count": 11,
   "metadata": {
    "slideshow": {
     "slide_type": "fragment"
    }
   },
   "outputs": [],
   "source": [
    "title_placeholder.text = 'mspandas Demo'"
   ]
  },
  {
   "cell_type": "code",
   "execution_count": 12,
   "metadata": {
    "slideshow": {
     "slide_type": "fragment"
    }
   },
   "outputs": [],
   "source": [
    "table = Table(table_placeholder, df,\n",
    "              header=True, index=True,\n",
    "              dtype_format={np.datetime64:'%b %d, %Y',\n",
    "                            np.float64:'{:.2f}%'},\n",
    "              font_size=9, header_font_color='#FFFFFF',\n",
    "              column_totals=True, row_totals=True, last_row=True, last_col=True,\n",
    "              keep_names='index')\n",
    "\n",
    "# required call to convert DataFrame to Table\n",
    "output_df = table.convert()"
   ]
  },
  {
   "cell_type": "markdown",
   "metadata": {
    "slideshow": {
     "slide_type": "slide"
    }
   },
   "source": [
    "# Save Report"
   ]
  },
  {
   "cell_type": "code",
   "execution_count": 13,
   "metadata": {
    "slideshow": {
     "slide_type": "fragment"
    }
   },
   "outputs": [],
   "source": [
    "ppt.save('example_report.pptx')"
   ]
  },
  {
   "cell_type": "markdown",
   "metadata": {
    "slideshow": {
     "slide_type": "slide"
    }
   },
   "source": [
    "# Preview"
   ]
  },
  {
   "cell_type": "markdown",
   "metadata": {
    "slideshow": {
     "slide_type": "fragment"
    }
   },
   "source": [
    "![Example Slide](example_slide.png)"
   ]
  }
 ],
 "metadata": {
  "celltoolbar": "Slideshow",
  "kernelspec": {
   "display_name": "Python 3",
   "language": "python",
   "name": "python3"
  },
  "language_info": {
   "codemirror_mode": {
    "name": "ipython",
    "version": 3
   },
   "file_extension": ".py",
   "mimetype": "text/x-python",
   "name": "python",
   "nbconvert_exporter": "python",
   "pygments_lexer": "ipython3",
   "version": "3.6.8"
  }
 },
 "nbformat": 4,
 "nbformat_minor": 2
}
